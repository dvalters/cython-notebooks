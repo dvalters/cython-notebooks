{
 "cells": [
  {
   "cell_type": "markdown",
   "metadata": {},
   "source": [
    "# Cython in Depth\n",
    "\n",
    "Examples from the O'Reilly Cython (Smith) book\n",
    "\n",
    "## Interpreted vs compiled execution\n",
    "\n",
    "To understand how Cython improves the performance of Python code, it is useful to understand the differences in the way that Python's interpreter runs code compared to the way an operating system runs compiled C code.\n",
    "\n",
    "Before being run, a Python code is automatically compiled to Python _bytecode_. Bytecodes are a set of fundamental codes and instructions that can be understood or executed by the Python virtual machine (VM). As the Python VM abstracts away any platform-specific details, python bytecode can be generated on one platform and run anywhere else with a Python VM.\n",
    "\n",
    "## Dynamic vs static typing\n",
    "\n",
    "## Static type declaration with `cdef`\n",
    "\n",
    "We can use dynamically typed variables in Cython the same way as we can in normal Python.\n"
   ]
  },
  {
   "cell_type": "code",
   "execution_count": 2,
   "metadata": {},
   "outputs": [],
   "source": [
    "%load_ext Cython"
   ]
  },
  {
   "cell_type": "code",
   "execution_count": 3,
   "metadata": {},
   "outputs": [
    {
     "name": "stdout",
     "output_type": "stream",
     "text": [
      "13\n",
      "[1, 2, 3, 42.0, 5, 6, 7, 8, 9, 10, 11, 12]\n"
     ]
    }
   ],
   "source": [
    "a = [x + 1 for x in range(12)]\n",
    "b = a\n",
    "a[3] = 42.0\n",
    "assert b[3] == 42.0\n",
    "\n",
    "a = 13\n",
    "assert isinstance(b, list)\n",
    "\n",
    "print(a)\n",
    "print(b)"
   ]
  },
  {
   "cell_type": "markdown",
   "metadata": {},
   "source": [
    "In Cython, __untyped dynamic variables__ behave exactly like Python variables. The assignment `b = a` allows both `a` and `b` to access the same list object. Modifying the list item with `b[3]` modifies the same list object item referenced by `a`, so th assertion holds true. When `a` is assigned to `13`, `b` still refers to the original list object, and `a` is assigned to a Python integer object. The type of `a` has been changed dynamically, which is perfectly valid Python code.\n",
    "\n",
    "To **statically type** Python variables, we can use the `cdef` keyword, with a type and a variable name."
   ]
  },
  {
   "cell_type": "code",
   "execution_count": 4,
   "metadata": {},
   "outputs": [],
   "source": [
    "%%cython\n",
    "import cython\n",
    "\n",
    "cdef int i\n",
    "cdef int j\n",
    "cdef float k"
   ]
  },
  {
   "cell_type": "markdown",
   "metadata": {},
   "source": [
    "Statically typed variables are used just the same way as in C code."
   ]
  },
  {
   "cell_type": "code",
   "execution_count": 5,
   "metadata": {},
   "outputs": [],
   "source": [
    "%%cython\n",
    "j = 0\n",
    "i = j\n",
    "k = 12.0\n",
    "j = 2 * k\n",
    "assert i != j"
   ]
  },
  {
   "cell_type": "markdown",
   "metadata": {},
   "source": [
    "Note: Static variables with C types have C semantics which means they follow C-style coercion and casting rules."
   ]
  },
  {
   "cell_type": "markdown",
   "metadata": {},
   "source": [
    "In the above example, `i = j` copies the integer data at `j` to the memory location reserved for `i`. The variables `i` and `j` now refer to separate entities, and can evolve separately.\n",
    "\n",
    "As with C, we can declare several variables of the same type at once:\n"
   ]
  },
  {
   "cell_type": "code",
   "execution_count": 6,
   "metadata": {},
   "outputs": [],
   "source": [
    "%%cython\n",
    "cdef int i, j, k\n",
    "cdef float price, margin"
   ]
  },
  {
   "cell_type": "markdown",
   "metadata": {},
   "source": [
    "Inside a function, `cdef` statements are indented and the static variables declared are local to that function. All of these are valid uses of `cdef` to declare local variables in a function `integrate`:"
   ]
  },
  {
   "cell_type": "code",
   "execution_count": 7,
   "metadata": {},
   "outputs": [],
   "source": [
    "%%cython\n",
    "def integrate(a, b, f):\n",
    "    cdef int i\n",
    "    cdef int N=2000\n",
    "    cdef float dx, s = 0.0\n",
    "    dx = (b-a/N)\n",
    "    for i in range(N):\n",
    "        s += f(a+i*dx)\n",
    "    return s * dx"
   ]
  },
  {
   "cell_type": "markdown",
   "metadata": {},
   "source": [
    "An equivalent way to define multiple C-type variables is inside a `cdef` block:"
   ]
  },
  {
   "cell_type": "code",
   "execution_count": 8,
   "metadata": {},
   "outputs": [],
   "source": [
    "%%cython\n",
    "def integrate(a, b, f):\n",
    "    cdef:\n",
    "        int i\n",
    "        int N=2000\n",
    "        float dx, s=0.0\n",
    "# ...        "
   ]
  },
  {
   "cell_type": "markdown",
   "metadata": {},
   "source": [
    "### What about `static` and `const`?\n",
    "\n",
    "The `static` keyword in C is used to define a variable that extends in lifetime for the entire duration of the program. It is not a valid keyword in Cython. The `const` keyword declares an unmodifiable identifier. We can use `const` in Cython but its use will be explained in a later section. \n",
    "\n",
    "## Automatic type inference in Cython\n",
    "\n",
    "We can use a convenient feature in Cython to automatically deduce statically typed variables in Cython without having to manually use the `cdef` keyword in multiple places. Cython is conservative in that it will not automatically deduce types that do not have definite 1-to-1 mappings with C-types, unless expressly directed to do so. It will however, automatically infer certain types of variables if they have unambiguous mappings to corresponding C-types. For example:\n"
   ]
  },
  {
   "cell_type": "code",
   "execution_count": 9,
   "metadata": {},
   "outputs": [],
   "source": [
    "%%cython\n",
    "def automatic_inference():\n",
    "    i = 1   # Not converted to a C int (could be float or int, for example)\n",
    "    d = 2.0 # Automatically treated as a C double\n",
    "    c = 3 + 4j # Not converted, remains a Python complex\n",
    "    r = i * d + c # Similarly, remains a python object\n",
    "    return r"
   ]
  },
  {
   "cell_type": "markdown",
   "metadata": {},
   "source": [
    "However, we can use the `infer_types` decorator to give Cython more flexibility in infering types in a more intuitive way:"
   ]
  },
  {
   "cell_type": "code",
   "execution_count": 10,
   "metadata": {},
   "outputs": [],
   "source": [
    "%%cython\n",
    "def more_inference():\n",
    "    i = 1   # Not converted to a C int (could be float or int, for example)\n",
    "    d = 2.0 # Automatically treated as a C double\n",
    "    c = 3 + 4j # Not converted, remains a Python complex\n",
    "    r = i * d + c # Similarly, remains a python object\n",
    "    return r"
   ]
  },
  {
   "cell_type": "markdown",
   "metadata": {},
   "source": [
    "In this case, `i` is typed as a C `long` type, `c` and `r` are both complex variables. We must take care when using infer_types that integer operations do not overflow and semantics do not change from the untyped version. The `infer_types` directive can be enabled at the function scope or globally."
   ]
  },
  {
   "cell_type": "code",
   "execution_count": null,
   "metadata": {},
   "outputs": [],
   "source": []
  }
 ],
 "metadata": {
  "kernelspec": {
   "display_name": "Python 3",
   "language": "python",
   "name": "python3"
  },
  "language_info": {
   "codemirror_mode": {
    "name": "ipython",
    "version": 3
   },
   "file_extension": ".py",
   "mimetype": "text/x-python",
   "name": "python",
   "nbconvert_exporter": "python",
   "pygments_lexer": "ipython3",
   "version": "3.6.5"
  }
 },
 "nbformat": 4,
 "nbformat_minor": 2
}
